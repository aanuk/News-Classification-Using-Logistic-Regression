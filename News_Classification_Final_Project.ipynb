{
 "cells": [
  {
   "cell_type": "code",
   "execution_count": null,
   "metadata": {
    "colab": {
     "base_uri": "https://localhost:8080/"
    },
    "id": "G-lYPOcsvdjz",
    "outputId": "d052c215-7261-4bbb-df8a-bbfac957db9d"
   },
   "outputs": [],
   "source": [
    "import numpy as np\n",
    "import pandas as pd\n",
    "import re, string\n",
    "import matplotlib.pyplot as plt\n",
    "from nltk.corpus import stopwords\n",
    "from nltk.stem import PorterStemmer\n",
    "from sklearn.feature_extraction.text import TfidfVectorizer\n",
    "from sklearn.pipeline import Pipeline\n",
    "from sklearn.metrics import classification_report, confusion_matrix\n",
    "from sklearn.model_selection import train_test_split\n",
    "from sklearn.feature_selection import SelectKBest, chi2\n",
    "import pickle\n",
    "import nltk\n",
    "nltk.download('stopwords')\n",
    "%matplotlib inline\n",
    "import streamlit as st"
   ]
  },
  {
   "cell_type": "code",
   "execution_count": 2,
   "metadata": {
    "colab": {
     "base_uri": "https://localhost:8080/"
    },
    "id": "8BXrZ0mgfQoa",
    "outputId": "bcdf7844-8874-4833-d0d9-04891657bec8"
   },
   "outputs": [],
   "source": [
    "# from google.colab import drive\n",
    "# drive.mount('/content/drive')"
   ]
  },
  {
   "cell_type": "code",
   "execution_count": 3,
   "metadata": {
    "colab": {
     "base_uri": "https://localhost:8080/",
     "height": 423
    },
    "id": "19Xe_t-IwkVS",
    "outputId": "db7589ae-aa3d-47fd-a9a7-ce58841ba598"
   },
   "outputs": [
    {
     "data": {
      "text/html": [
       "<div>\n",
       "<style scoped>\n",
       "    .dataframe tbody tr th:only-of-type {\n",
       "        vertical-align: middle;\n",
       "    }\n",
       "\n",
       "    .dataframe tbody tr th {\n",
       "        vertical-align: top;\n",
       "    }\n",
       "\n",
       "    .dataframe thead th {\n",
       "        text-align: right;\n",
       "    }\n",
       "</style>\n",
       "<table border=\"1\" class=\"dataframe\">\n",
       "  <thead>\n",
       "    <tr style=\"text-align: right;\">\n",
       "      <th></th>\n",
       "      <th>Unnamed: 0</th>\n",
       "      <th>news_headline</th>\n",
       "      <th>news_article</th>\n",
       "      <th>news_category</th>\n",
       "    </tr>\n",
       "  </thead>\n",
       "  <tbody>\n",
       "    <tr>\n",
       "      <th>0</th>\n",
       "      <td>0</td>\n",
       "      <td>50-year-old problem of biology solved by Artif...</td>\n",
       "      <td>DeepMind's AI system 'AlphaFold' has been reco...</td>\n",
       "      <td>technology</td>\n",
       "    </tr>\n",
       "    <tr>\n",
       "      <th>1</th>\n",
       "      <td>1</td>\n",
       "      <td>Microsoft Teams to stop working on Internet Ex...</td>\n",
       "      <td>Microsoft Teams will stop working on Internet ...</td>\n",
       "      <td>technology</td>\n",
       "    </tr>\n",
       "    <tr>\n",
       "      <th>2</th>\n",
       "      <td>2</td>\n",
       "      <td>Hope US won't erect barriers to cooperation: C...</td>\n",
       "      <td>China, in response to reports of US adding Chi...</td>\n",
       "      <td>technology</td>\n",
       "    </tr>\n",
       "    <tr>\n",
       "      <th>3</th>\n",
       "      <td>3</td>\n",
       "      <td>Global smartphone sales in Q3 falls 5.7% to 36...</td>\n",
       "      <td>The global smartphone sales in the third quart...</td>\n",
       "      <td>technology</td>\n",
       "    </tr>\n",
       "    <tr>\n",
       "      <th>4</th>\n",
       "      <td>4</td>\n",
       "      <td>EU hoping Biden will clarify US position on di...</td>\n",
       "      <td>The European Union (EU) is hoping that US Pres...</td>\n",
       "      <td>technology</td>\n",
       "    </tr>\n",
       "    <tr>\n",
       "      <th>...</th>\n",
       "      <td>...</td>\n",
       "      <td>...</td>\n",
       "      <td>...</td>\n",
       "      <td>...</td>\n",
       "    </tr>\n",
       "    <tr>\n",
       "      <th>4812</th>\n",
       "      <td>4812</td>\n",
       "      <td>AstraZeneca to test combining Oxford vaccine w...</td>\n",
       "      <td>AstraZeneca, which is developing a coronavirus...</td>\n",
       "      <td>science</td>\n",
       "    </tr>\n",
       "    <tr>\n",
       "      <th>4813</th>\n",
       "      <td>4813</td>\n",
       "      <td>Humanity will face 60°C temperatures in 2050s,...</td>\n",
       "      <td>As many as two billion people will face 60°C t...</td>\n",
       "      <td>science</td>\n",
       "    </tr>\n",
       "    <tr>\n",
       "      <th>4814</th>\n",
       "      <td>4814</td>\n",
       "      <td>Human-made objects to outweigh living things b...</td>\n",
       "      <td>Scientists have said that the weight of human-...</td>\n",
       "      <td>science</td>\n",
       "    </tr>\n",
       "    <tr>\n",
       "      <th>4815</th>\n",
       "      <td>4815</td>\n",
       "      <td>IUCN lists 31 species as 'Extinct', European B...</td>\n",
       "      <td>The IUCN released an update of its Red List of...</td>\n",
       "      <td>science</td>\n",
       "    </tr>\n",
       "    <tr>\n",
       "      <th>4816</th>\n",
       "      <td>4816</td>\n",
       "      <td>India not historically responsible for climate...</td>\n",
       "      <td>Environment Minister Prakash Javadekar has sai...</td>\n",
       "      <td>science</td>\n",
       "    </tr>\n",
       "  </tbody>\n",
       "</table>\n",
       "<p>4817 rows × 4 columns</p>\n",
       "</div>"
      ],
      "text/plain": [
       "      Unnamed: 0                                      news_headline  \\\n",
       "0              0  50-year-old problem of biology solved by Artif...   \n",
       "1              1  Microsoft Teams to stop working on Internet Ex...   \n",
       "2              2  Hope US won't erect barriers to cooperation: C...   \n",
       "3              3  Global smartphone sales in Q3 falls 5.7% to 36...   \n",
       "4              4  EU hoping Biden will clarify US position on di...   \n",
       "...          ...                                                ...   \n",
       "4812        4812  AstraZeneca to test combining Oxford vaccine w...   \n",
       "4813        4813  Humanity will face 60°C temperatures in 2050s,...   \n",
       "4814        4814  Human-made objects to outweigh living things b...   \n",
       "4815        4815  IUCN lists 31 species as 'Extinct', European B...   \n",
       "4816        4816  India not historically responsible for climate...   \n",
       "\n",
       "                                           news_article news_category  \n",
       "0     DeepMind's AI system 'AlphaFold' has been reco...    technology  \n",
       "1     Microsoft Teams will stop working on Internet ...    technology  \n",
       "2     China, in response to reports of US adding Chi...    technology  \n",
       "3     The global smartphone sales in the third quart...    technology  \n",
       "4     The European Union (EU) is hoping that US Pres...    technology  \n",
       "...                                                 ...           ...  \n",
       "4812  AstraZeneca, which is developing a coronavirus...       science  \n",
       "4813  As many as two billion people will face 60°C t...       science  \n",
       "4814  Scientists have said that the weight of human-...       science  \n",
       "4815  The IUCN released an update of its Red List of...       science  \n",
       "4816  Environment Minister Prakash Javadekar has sai...       science  \n",
       "\n",
       "[4817 rows x 4 columns]"
      ]
     },
     "execution_count": 3,
     "metadata": {},
     "output_type": "execute_result"
    }
   ],
   "source": [
    "df = pd.read_csv(\"projectdata.csv\")\n",
    "df"
   ]
  },
  {
   "cell_type": "code",
   "execution_count": 4,
   "metadata": {
    "colab": {
     "base_uri": "https://localhost:8080/"
    },
    "id": "KSijubk0flrw",
    "outputId": "a7d32876-3df8-4cbe-9a91-631605707ad6"
   },
   "outputs": [
    {
     "data": {
      "text/plain": [
       "7"
      ]
     },
     "execution_count": 4,
     "metadata": {},
     "output_type": "execute_result"
    }
   ],
   "source": [
    "#No. of categories\n",
    "len(set(df['news_category']))"
   ]
  },
  {
   "cell_type": "code",
   "execution_count": 5,
   "metadata": {
    "colab": {
     "base_uri": "https://localhost:8080/"
    },
    "id": "eGPqZqvff5X6",
    "outputId": "cce595e9-b6b7-49cf-f295-0ec0dc6de24c"
   },
   "outputs": [
    {
     "data": {
      "text/plain": [
       "news_category\n",
       "automobile        256\n",
       "entertainment     998\n",
       "politics          546\n",
       "science           389\n",
       "sports            856\n",
       "technology        751\n",
       "world            1021\n",
       "Name: news_category, dtype: int64"
      ]
     },
     "execution_count": 5,
     "metadata": {},
     "output_type": "execute_result"
    }
   ],
   "source": [
    "df.groupby(\"news_category\").news_category.count()"
   ]
  },
  {
   "cell_type": "code",
   "execution_count": 6,
   "metadata": {
    "colab": {
     "base_uri": "https://localhost:8080/",
     "height": 535
    },
    "id": "gmBoWF85gDMr",
    "outputId": "666a6ca6-6344-47db-bea1-bdba1dae9ab6"
   },
   "outputs": [
    {
     "data": {
      "image/png": "[encoded data removed]",
      "text/plain": [
       "<Figure size 640x480 with 1 Axes>"
      ]
     },
     "metadata": {},
     "output_type": "display_data"
    }
   ],
   "source": [
    "#Analyzing Data\n",
    "df.groupby(\"news_category\").news_category.count().plot.bar()\n",
    "plt.show()"
   ]
  },
  {
   "cell_type": "markdown",
   "metadata": {
    "id": "OshZih7dgiSL"
   },
   "source": [
    "# Data Cleaning"
   ]
  },
  {
   "cell_type": "code",
   "execution_count": 7,
   "metadata": {
    "colab": {
     "base_uri": "https://localhost:8080/"
    },
    "id": "nKKouLBzgy8a",
    "outputId": "8c012702-dae9-4c42-c3b4-841a8c896165"
   },
   "outputs": [
    {
     "data": {
      "text/plain": [
       "0       deepmind ai system alphafold recognis solut pr...\n",
       "1       microsoft team stop work internet explor today...\n",
       "2       china respons report us ad chines chipmak smic...\n",
       "3       global smartphon sale third quarter fell year ...\n",
       "4       european union eu hope us presid elect joe bid...\n",
       "                              ...                        \n",
       "4812    astrazeneca develop coronaviru vaccin oxford u...\n",
       "4813    mani two billion peopl face c temperatur tenth...\n",
       "4814    scientist said weight human made object like e...\n",
       "4815    iucn releas updat red list threaten speci move...\n",
       "4816    environ minist prakash javadekar said india hi...\n",
       "Name: cleaned, Length: 4817, dtype: object"
      ]
     },
     "execution_count": 7,
     "metadata": {},
     "output_type": "execute_result"
    }
   ],
   "source": [
    "words = stopwords.words(\"english\")\n",
    "words.extend([\"a\", \"an\", \"the\"])\n",
    "words\n",
    "stemmer = PorterStemmer()\n",
    "df['cleaned'] = df['news_article'].apply(lambda x: \" \".join([stemmer.stem(i) for i in re.sub(\"[^a-zA-Z]\", \" \", x.lower()).split() if i not in words]).lower())\n",
    "df['cleaned']\n"
   ]
  },
  {
   "cell_type": "code",
   "execution_count": 8,
   "metadata": {
    "colab": {
     "base_uri": "https://localhost:8080/",
     "height": 423
    },
    "id": "RAGGm-GlwzWH",
    "outputId": "30e12e48-2441-4df2-9975-733baadb304d"
   },
   "outputs": [
    {
     "data": {
      "text/html": [
       "<div>\n",
       "<style scoped>\n",
       "    .dataframe tbody tr th:only-of-type {\n",
       "        vertical-align: middle;\n",
       "    }\n",
       "\n",
       "    .dataframe tbody tr th {\n",
       "        vertical-align: top;\n",
       "    }\n",
       "\n",
       "    .dataframe thead th {\n",
       "        text-align: right;\n",
       "    }\n",
       "</style>\n",
       "<table border=\"1\" class=\"dataframe\">\n",
       "  <thead>\n",
       "    <tr style=\"text-align: right;\">\n",
       "      <th></th>\n",
       "      <th>Unnamed: 0</th>\n",
       "      <th>news_headline</th>\n",
       "      <th>news_article</th>\n",
       "      <th>news_category</th>\n",
       "      <th>cleaned</th>\n",
       "    </tr>\n",
       "  </thead>\n",
       "  <tbody>\n",
       "    <tr>\n",
       "      <th>0</th>\n",
       "      <td>0</td>\n",
       "      <td>50-year-old problem of biology solved by Artif...</td>\n",
       "      <td>DeepMind's AI system 'AlphaFold' has been reco...</td>\n",
       "      <td>technology</td>\n",
       "      <td>deepmind ai system alphafold recognis solut pr...</td>\n",
       "    </tr>\n",
       "    <tr>\n",
       "      <th>1</th>\n",
       "      <td>1</td>\n",
       "      <td>Microsoft Teams to stop working on Internet Ex...</td>\n",
       "      <td>Microsoft Teams will stop working on Internet ...</td>\n",
       "      <td>technology</td>\n",
       "      <td>microsoft team stop work internet explor today...</td>\n",
       "    </tr>\n",
       "    <tr>\n",
       "      <th>2</th>\n",
       "      <td>2</td>\n",
       "      <td>Hope US won't erect barriers to cooperation: C...</td>\n",
       "      <td>China, in response to reports of US adding Chi...</td>\n",
       "      <td>technology</td>\n",
       "      <td>china respons report us ad chines chipmak smic...</td>\n",
       "    </tr>\n",
       "    <tr>\n",
       "      <th>3</th>\n",
       "      <td>3</td>\n",
       "      <td>Global smartphone sales in Q3 falls 5.7% to 36...</td>\n",
       "      <td>The global smartphone sales in the third quart...</td>\n",
       "      <td>technology</td>\n",
       "      <td>global smartphon sale third quarter fell year ...</td>\n",
       "    </tr>\n",
       "    <tr>\n",
       "      <th>4</th>\n",
       "      <td>4</td>\n",
       "      <td>EU hoping Biden will clarify US position on di...</td>\n",
       "      <td>The European Union (EU) is hoping that US Pres...</td>\n",
       "      <td>technology</td>\n",
       "      <td>european union eu hope us presid elect joe bid...</td>\n",
       "    </tr>\n",
       "    <tr>\n",
       "      <th>...</th>\n",
       "      <td>...</td>\n",
       "      <td>...</td>\n",
       "      <td>...</td>\n",
       "      <td>...</td>\n",
       "      <td>...</td>\n",
       "    </tr>\n",
       "    <tr>\n",
       "      <th>4812</th>\n",
       "      <td>4812</td>\n",
       "      <td>AstraZeneca to test combining Oxford vaccine w...</td>\n",
       "      <td>AstraZeneca, which is developing a coronavirus...</td>\n",
       "      <td>science</td>\n",
       "      <td>astrazeneca develop coronaviru vaccin oxford u...</td>\n",
       "    </tr>\n",
       "    <tr>\n",
       "      <th>4813</th>\n",
       "      <td>4813</td>\n",
       "      <td>Humanity will face 60°C temperatures in 2050s,...</td>\n",
       "      <td>As many as two billion people will face 60°C t...</td>\n",
       "      <td>science</td>\n",
       "      <td>mani two billion peopl face c temperatur tenth...</td>\n",
       "    </tr>\n",
       "    <tr>\n",
       "      <th>4814</th>\n",
       "      <td>4814</td>\n",
       "      <td>Human-made objects to outweigh living things b...</td>\n",
       "      <td>Scientists have said that the weight of human-...</td>\n",
       "      <td>science</td>\n",
       "      <td>scientist said weight human made object like e...</td>\n",
       "    </tr>\n",
       "    <tr>\n",
       "      <th>4815</th>\n",
       "      <td>4815</td>\n",
       "      <td>IUCN lists 31 species as 'Extinct', European B...</td>\n",
       "      <td>The IUCN released an update of its Red List of...</td>\n",
       "      <td>science</td>\n",
       "      <td>iucn releas updat red list threaten speci move...</td>\n",
       "    </tr>\n",
       "    <tr>\n",
       "      <th>4816</th>\n",
       "      <td>4816</td>\n",
       "      <td>India not historically responsible for climate...</td>\n",
       "      <td>Environment Minister Prakash Javadekar has sai...</td>\n",
       "      <td>science</td>\n",
       "      <td>environ minist prakash javadekar said india hi...</td>\n",
       "    </tr>\n",
       "  </tbody>\n",
       "</table>\n",
       "<p>4817 rows × 5 columns</p>\n",
       "</div>"
      ],
      "text/plain": [
       "      Unnamed: 0                                      news_headline  \\\n",
       "0              0  50-year-old problem of biology solved by Artif...   \n",
       "1              1  Microsoft Teams to stop working on Internet Ex...   \n",
       "2              2  Hope US won't erect barriers to cooperation: C...   \n",
       "3              3  Global smartphone sales in Q3 falls 5.7% to 36...   \n",
       "4              4  EU hoping Biden will clarify US position on di...   \n",
       "...          ...                                                ...   \n",
       "4812        4812  AstraZeneca to test combining Oxford vaccine w...   \n",
       "4813        4813  Humanity will face 60°C temperatures in 2050s,...   \n",
       "4814        4814  Human-made objects to outweigh living things b...   \n",
       "4815        4815  IUCN lists 31 species as 'Extinct', European B...   \n",
       "4816        4816  India not historically responsible for climate...   \n",
       "\n",
       "                                           news_article news_category  \\\n",
       "0     DeepMind's AI system 'AlphaFold' has been reco...    technology   \n",
       "1     Microsoft Teams will stop working on Internet ...    technology   \n",
       "2     China, in response to reports of US adding Chi...    technology   \n",
       "3     The global smartphone sales in the third quart...    technology   \n",
       "4     The European Union (EU) is hoping that US Pres...    technology   \n",
       "...                                                 ...           ...   \n",
       "4812  AstraZeneca, which is developing a coronavirus...       science   \n",
       "4813  As many as two billion people will face 60°C t...       science   \n",
       "4814  Scientists have said that the weight of human-...       science   \n",
       "4815  The IUCN released an update of its Red List of...       science   \n",
       "4816  Environment Minister Prakash Javadekar has sai...       science   \n",
       "\n",
       "                                                cleaned  \n",
       "0     deepmind ai system alphafold recognis solut pr...  \n",
       "1     microsoft team stop work internet explor today...  \n",
       "2     china respons report us ad chines chipmak smic...  \n",
       "3     global smartphon sale third quarter fell year ...  \n",
       "4     european union eu hope us presid elect joe bid...  \n",
       "...                                                 ...  \n",
       "4812  astrazeneca develop coronaviru vaccin oxford u...  \n",
       "4813  mani two billion peopl face c temperatur tenth...  \n",
       "4814  scientist said weight human made object like e...  \n",
       "4815  iucn releas updat red list threaten speci move...  \n",
       "4816  environ minist prakash javadekar said india hi...  \n",
       "\n",
       "[4817 rows x 5 columns]"
      ]
     },
     "execution_count": 8,
     "metadata": {},
     "output_type": "execute_result"
    }
   ],
   "source": [
    "df"
   ]
  },
  {
   "cell_type": "markdown",
   "metadata": {
    "id": "NJV0VVTnTfSA"
   },
   "source": [
    "## Training Model"
   ]
  },
  {
   "cell_type": "code",
   "execution_count": 9,
   "metadata": {
    "id": "rRgrvg50Tmqn"
   },
   "outputs": [],
   "source": [
    "from sklearn.linear_model import LogisticRegression\n",
    "log_regression = LogisticRegression()\n",
    "vectorizer = TfidfVectorizer(stop_words = \"english\")\n",
    "X = df['cleaned'] # independent\n",
    "Y = df[\"news_category\"] # dependent\n",
    "X_train , X_test, Y_train, Y_test = train_test_split(X, Y, test_size = 0.30)\n",
    "\n",
    "\n",
    "# Creating Pipeline\n",
    "pipeline = Pipeline([('vect', vectorizer),\n",
    "                    (\"chi\", SelectKBest(chi2, k=1200)),\n",
    "                     (\"clf\", LogisticRegression(random_state = 0))])\n",
    "\n",
    "# Training the model\n",
    "model = pipeline.fit(X_train, Y_train)\n"
   ]
  },
  {
   "cell_type": "markdown",
   "metadata": {
    "id": "SrgK4KIEOFxB"
   },
   "source": [
    "30% of data is being used for testing purpose in this case."
   ]
  },
  {
   "cell_type": "code",
   "execution_count": 10,
   "metadata": {
    "colab": {
     "base_uri": "https://localhost:8080/"
    },
    "id": "7NcAeFFVORde",
    "outputId": "0795026c-8e5c-4bf6-91e1-a816fd493426"
   },
   "outputs": [
    {
     "name": "stdout",
     "output_type": "stream",
     "text": [
      "0.8686030428769018\n"
     ]
    }
   ],
   "source": [
    "# Accuracy\n",
    "from sklearn.metrics import accuracy_score\n",
    "predicted_category = model.predict(X_test)\n",
    "print(accuracy_score(Y_test, predicted_category))\n"
   ]
  },
  {
   "cell_type": "markdown",
   "metadata": {
    "id": "Oemx1oD7PHh9"
   },
   "source": [
    "Here, we got an accuracy score of 87.06%."
   ]
  },
  {
   "cell_type": "markdown",
   "metadata": {
    "id": "VNdDoImwE6Cr"
   },
   "source": [
    "# Classification Report and Confusion Matrix"
   ]
  },
  {
   "cell_type": "code",
   "execution_count": 11,
   "metadata": {
    "colab": {
     "base_uri": "https://localhost:8080/"
    },
    "id": "r1azueG1FEwq",
    "outputId": "9d26d14f-7d62-4c61-f609-2f775f50487d"
   },
   "outputs": [
    {
     "name": "stdout",
     "output_type": "stream",
     "text": [
      "               precision    recall  f1-score   support\n",
      "\n",
      "   automobile       0.81      0.65      0.72        79\n",
      "entertainment       0.90      0.96      0.93       313\n",
      "     politics       0.96      0.91      0.93       174\n",
      "      science       0.84      0.66      0.74       108\n",
      "       sports       0.98      0.93      0.96       253\n",
      "   technology       0.84      0.76      0.80       218\n",
      "        world       0.76      0.92      0.83       301\n",
      "\n",
      "     accuracy                           0.87      1446\n",
      "    macro avg       0.87      0.82      0.84      1446\n",
      " weighted avg       0.87      0.87      0.87      1446\n",
      "\n",
      "[[ 51   2   0   1   2  17   6]\n",
      " [  0 300   1   0   1   1  10]\n",
      " [  0   5 158   0   0   0  11]\n",
      " [  0   1   0  71   0   7  29]\n",
      " [  0   9   1   0 235   0   8]\n",
      " [ 12   6   1   9   0 165  25]\n",
      " [  0   9   4   4   1   7 276]]\n"
     ]
    }
   ],
   "source": [
    "ytest = np.array(Y_test)\n",
    "print(classification_report(ytest, model.predict(X_test)))\n",
    "print(confusion_matrix(ytest, model.predict(X_test)))"
   ]
  },
  {
   "cell_type": "code",
   "execution_count": null,
   "metadata": {
    "colab": {
     "base_uri": "https://localhost:8080/"
    },
    "id": "rIPHqfpoQbBz",
    "outputId": "d6ecdba5-1918-4bca-fb04-ee4b1628bdba"
   },
   "outputs": [],
   "source": [
    "news = input(\"Enter news = \")\n",
    "news_data = {'predicted_category':[news]}\n",
    "news_data_df = pd.DataFrame(news_data)\n",
    "\n",
    "predict_news_cat = model.predict(news_data_df['predicted_category'])\n",
    "print(\"Predicted news category = \",predict_news_cat[0])"
   ]
  },
  {
   "cell_type": "code",
   "execution_count": null,
   "metadata": {
    "id": "NDcvBh95RKbG"
   },
   "outputs": [],
   "source": []
  }
 ],
 "metadata": {
  "colab": {
   "provenance": []
  },
  "kernelspec": {
   "display_name": "Python 3 (ipykernel)",
   "language": "python",
   "name": "python3"
  },
  "language_info": {
   "codemirror_mode": {
    "name": "ipython",
    "version": 3
   },
   "file_extension": ".py",
   "mimetype": "text/x-python",
   "name": "python",
   "nbconvert_exporter": "python",
   "pygments_lexer": "ipython3",
   "version": "3.10.9"
  }
 },
 "nbformat": 4,
 "nbformat_minor": 1
}
